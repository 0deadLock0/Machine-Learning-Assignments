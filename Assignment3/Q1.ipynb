{
  "cells": [
    {
      "cell_type": "code",
      "execution_count": null,
      "metadata": {
        "id": "nxSS9XnWt46-"
      },
      "outputs": [],
      "source": [
        "import pandas as pd\n",
        "import numpy as np\n",
        "import matplotlib.pyplot as plt\n",
        "from sklearn.decomposition import PCA"
      ]
    },
    {
      "cell_type": "code",
      "execution_count": null,
      "metadata": {
        "id": "-6h_xEI8uI3F"
      },
      "outputs": [],
      "source": [
        "!pip install pyclustering"
      ]
    },
    {
      "cell_type": "code",
      "execution_count": null,
      "metadata": {
        "id": "iQQuLGX_uJR9"
      },
      "outputs": [],
      "source": [
        "from pyclustering.cluster.kmedians import kmedians\n",
        "from pyclustering.cluster import cluster_visualizer_multidim"
      ]
    },
    {
      "cell_type": "code",
      "execution_count": null,
      "metadata": {
        "id": "SNQRvok2ujh3"
      },
      "outputs": [],
      "source": [
        "from google.colab import drive\n",
        "drive.mount('/content/drive/')"
      ]
    },
    {
      "cell_type": "code",
      "execution_count": null,
      "metadata": {
        "id": "iJrvnPf2FHzK"
      },
      "outputs": [],
      "source": [
        "folder_location = '/content/drive/MyDrive/ML_A3'"
      ]
    },
    {
      "cell_type": "markdown",
      "metadata": {
        "id": "u67zGMzyvrC5"
      },
      "source": [
        "## Loading the data\n"
      ]
    },
    {
      "cell_type": "code",
      "execution_count": null,
      "metadata": {
        "id": "PoT_OLEsvqOe"
      },
      "outputs": [],
      "source": [
        "df = pd.read_csv(folder_location +'/Datasets/' + 'population.csv')"
      ]
    },
    {
      "cell_type": "markdown",
      "metadata": {
        "id": "OSqFRForwxJe"
      },
      "source": [
        "## Understanding the Data"
      ]
    },
    {
      "cell_type": "code",
      "execution_count": null,
      "metadata": {
        "id": "vbzVIP5cwDae"
      },
      "outputs": [],
      "source": [
        "print(df.head())\n",
        "print(df.info())\n",
        "with pd.option_context('display.max_rows', None, 'display.max_columns', None):\n",
        "    print(df.describe())"
      ]
    },
    {
      "cell_type": "markdown",
      "metadata": {
        "id": "8TDnu4OZvXdu"
      },
      "source": [
        "## Step 1 : Preprocessing\n"
      ]
    },
    {
      "cell_type": "markdown",
      "metadata": {
        "id": "VKaOSePxyRFn"
      },
      "source": [
        "### Replacing missing values ('?') by NaN"
      ]
    },
    {
      "cell_type": "code",
      "execution_count": null,
      "metadata": {
        "id": "kI4eU_QDu8Ni"
      },
      "outputs": [],
      "source": [
        "df.replace(to_replace = ' ?', value = np.nan, inplace = True)"
      ]
    },
    {
      "cell_type": "code",
      "execution_count": null,
      "metadata": {
        "id": "oLYBtea0EnWQ"
      },
      "outputs": [],
      "source": [
        "print(df[df == '?'].sum())"
      ]
    },
    {
      "cell_type": "markdown",
      "metadata": {
        "id": "D3Sb1Ho9yqmF"
      },
      "source": [
        "###  Check for Null values in columns"
      ]
    },
    {
      "cell_type": "code",
      "execution_count": null,
      "metadata": {
        "id": "uWIXgYNKEkHx"
      },
      "outputs": [],
      "source": [
        "null_counts = df.isna().sum() / df.shape[0] * 100"
      ]
    },
    {
      "cell_type": "code",
      "execution_count": null,
      "metadata": {
        "id": "apbS0B6qy2s9"
      },
      "outputs": [],
      "source": [
        "null_counts.plot(kind = 'barh', xlabel = 'Columns', ylabel = 'Percentage of null values', title = 'Perctange of Null values in columns', figsize = (12, 12), fontsize = 8)\n",
        "plt.savefig(folder_location + '/Plots/' + 'Percentage_Nulls.jpeg') "
      ]
    },
    {
      "cell_type": "markdown",
      "metadata": {
        "id": "YCG9DAm67kzs"
      },
      "source": [
        "### Removing Columns with 40% of more null values"
      ]
    },
    {
      "cell_type": "code",
      "execution_count": null,
      "metadata": {
        "id": "Z7Di5q6d0Jcl"
      },
      "outputs": [],
      "source": [
        "null_columns = list(null_counts[lambda n : n >= 40].index)\n",
        "preprocessed_df = df.drop(columns = null_columns)"
      ]
    },
    {
      "cell_type": "code",
      "execution_count": null,
      "metadata": {
        "id": "oOspBMqE_CIz"
      },
      "outputs": [],
      "source": [
        "print(preprocessed_df.info())"
      ]
    },
    {
      "cell_type": "markdown",
      "metadata": {
        "id": "Hd36Jydx_18R"
      },
      "source": [
        "## Step 2 : Feature Analysis"
      ]
    },
    {
      "cell_type": "markdown",
      "metadata": {
        "id": "7rGsUs5JAE-t"
      },
      "source": [
        "### Finding Numerical and Categorical Columns"
      ]
    },
    {
      "cell_type": "code",
      "execution_count": null,
      "metadata": {
        "id": "S4ZelO-k_1AB"
      },
      "outputs": [],
      "source": [
        "given_numerical_columns = ['AAGE', 'AHRSPAY', 'CAPGAIN', 'CAPLOSS', 'DIVVAL', 'WKSWORK'] #taken from Data_Description.csv\n",
        "numerical_columns = [c for c in given_numerical_columns if c in preprocessed_df.columns]\n",
        "categorical_columns = [c for c in preprocessed_df.columns if c not in numerical_columns]"
      ]
    },
    {
      "cell_type": "code",
      "execution_count": null,
      "metadata": {
        "id": "P5tHOuObDVjW"
      },
      "outputs": [],
      "source": [
        "print(\"Numerical Columns:\", numerical_columns)\n",
        "print(\"Categorical Columns:\", categorical_columns)"
      ]
    },
    {
      "cell_type": "markdown",
      "metadata": {
        "id": "HsgzW8B9C22C"
      },
      "source": [
        "### Segregating Numerical and Categorical Data"
      ]
    },
    {
      "cell_type": "code",
      "execution_count": null,
      "metadata": {
        "id": "o_uk-nTiCiOF"
      },
      "outputs": [],
      "source": [
        "preprocessed_df[categorical_columns] = preprocessed_df[categorical_columns].astype('object')\n",
        "numerical_df = preprocessed_df[numerical_columns]\n",
        "categorical_df = preprocessed_df[categorical_columns]"
      ]
    },
    {
      "cell_type": "code",
      "execution_count": null,
      "metadata": {
        "id": "0rCYUinpDXdq"
      },
      "outputs": [],
      "source": [
        "print(numerical_df.info())\n",
        "print(categorical_df.info())"
      ]
    },
    {
      "cell_type": "markdown",
      "metadata": {
        "id": "KXP5ORKzGciY"
      },
      "source": [
        "### Plotting Numerical and Categorical Data Values"
      ]
    },
    {
      "cell_type": "code",
      "execution_count": null,
      "metadata": {
        "id": "KKtL9NwCIgGa"
      },
      "outputs": [],
      "source": [
        "def plot_columns_values(df, type_folder, suffix = '') :\n",
        "    for column in df.columns :\n",
        "        plot_name = 'Values vs Frequencies for Column = ' + column\n",
        "        df[column].value_counts().plot(kind = 'bar', xlabel = 'Values', ylabel = 'Frequencies', title = plot_name, figsize = (20, 20), fontsize = 12)\n",
        "        plt.savefig(folder_location + suffix + '/Plots/' + type_folder + '/' + plot_name + '.jpeg', bbox_inches = 'tight', dpi = 100) "
      ]
    },
    {
      "cell_type": "code",
      "execution_count": null,
      "metadata": {
        "id": "YJxp-aDEE7Ur"
      },
      "outputs": [],
      "source": [
        "plot_columns_values(numerical_df, 'Numerical Data')\n",
        "plot_columns_values(categorical_df, 'Categorical Data')"
      ]
    },
    {
      "cell_type": "markdown",
      "metadata": {
        "id": "HD0vh3K-Moza"
      },
      "source": [
        "### Droping features having most of the data in only one column"
      ]
    },
    {
      "cell_type": "code",
      "execution_count": null,
      "metadata": {
        "id": "z68x4vlWqkih"
      },
      "outputs": [],
      "source": [
        "def get_unbalanced_columns(df) :\n",
        "    unbalanced_columns = []\n",
        "    single_column_limit = 0.7 * df.shape[0] \n",
        "    for c in df.columns :\n",
        "        vals = df[c].value_counts().values\n",
        "        np.sort(vals)\n",
        "        if vals[0] >= single_column_limit :\n",
        "            unbalanced_columns.append(c)\n",
        "        elif vals.shape[0] > 1 and vals[0] >= 1000 and vals[1] <= vals[0] / 3 :\n",
        "            unbalanced_columns.append(c)\n",
        "    return unbalanced_columns"
      ]
    },
    {
      "cell_type": "code",
      "execution_count": null,
      "metadata": {
        "id": "Y8Kv9ZltqnqX"
      },
      "outputs": [],
      "source": [
        "unbalanced_columns = get_unbalanced_columns(preprocessed_df)\n",
        "filtered_df = preprocessed_df.drop(columns = unbalanced_columns)"
      ]
    },
    {
      "cell_type": "code",
      "execution_count": null,
      "metadata": {
        "id": "-P4UinMZqrEt"
      },
      "outputs": [],
      "source": [
        "print(filtered_df.info())"
      ]
    },
    {
      "cell_type": "markdown",
      "metadata": {
        "id": "quuL0jkZVYxm"
      },
      "source": [
        "## Step 3 : Imputation, Bucketization, One-Hot Encoding, Feature Transformation"
      ]
    },
    {
      "cell_type": "markdown",
      "metadata": {
        "id": "a0pErm_cuoQl"
      },
      "source": [
        "### Calculating modes for each column"
      ]
    },
    {
      "cell_type": "code",
      "execution_count": null,
      "metadata": {
        "id": "ZsNP0ZHMViZK"
      },
      "outputs": [],
      "source": [
        "column_modes = filtered_df.mode()"
      ]
    },
    {
      "cell_type": "code",
      "execution_count": null,
      "metadata": {
        "id": "coUEZPeYtyAY"
      },
      "outputs": [],
      "source": [
        "with pd.option_context('display.max_rows', None, 'display.max_columns', None):\n",
        "\tprint(column_modes)"
      ]
    },
    {
      "cell_type": "markdown",
      "metadata": {
        "id": "NGjjxtpzuuQb"
      },
      "source": [
        "### Replacing missing Features with respective Modes"
      ]
    },
    {
      "cell_type": "code",
      "execution_count": null,
      "metadata": {
        "id": "nsMaogjwui2x"
      },
      "outputs": [],
      "source": [
        "null_columns = filtered_df.columns[filtered_df.isnull().any()]\n",
        "filtered_df[null_columns] = column_modes[null_columns]"
      ]
    },
    {
      "cell_type": "code",
      "execution_count": null,
      "metadata": {
        "id": "PyqkM_HywNki"
      },
      "outputs": [],
      "source": [
        "print(filtered_df.isnull().sum())"
      ]
    },
    {
      "cell_type": "markdown",
      "metadata": {
        "id": "1aDN1ROUx8qa"
      },
      "source": [
        "### Selecting Numerical Columns\n"
      ]
    },
    {
      "cell_type": "code",
      "execution_count": null,
      "metadata": {
        "id": "zJ6suRDWwZ_s"
      },
      "outputs": [],
      "source": [
        "cur_numerical_columns = [c for c in filtered_df.columns if c in numerical_columns]"
      ]
    },
    {
      "cell_type": "code",
      "execution_count": null,
      "metadata": {
        "id": "MECpBKlGx44P"
      },
      "outputs": [],
      "source": [
        "print(cur_numerical_columns)"
      ]
    },
    {
      "cell_type": "markdown",
      "metadata": {
        "id": "bnj3pJ1Mx7DT"
      },
      "source": [
        "### Converting Numerical Values to Categorical"
      ]
    },
    {
      "cell_type": "code",
      "execution_count": null,
      "metadata": {
        "id": "qZlwQkrHyNsI"
      },
      "outputs": [],
      "source": [
        "converted_df = filtered_df.copy()\n",
        "converted_df['AAGE'] = pd.cut(filtered_df['AAGE'], bins = [0, 12, 18, 60, 200], labels = ['Child', 'Teenager', 'Adult', 'Senior Adult'], include_lowest = True)\n",
        "converted_df['WKSWORK'] = pd.cut(filtered_df['WKSWORK'], bins = [0, 5, 10, 15, 100], labels = ['Entry', 'Intermediate', 'Mid', 'Senior'], include_lowest = True)"
      ]
    },
    {
      "cell_type": "code",
      "execution_count": null,
      "metadata": {
        "id": "Yf34BXz3zb3h"
      },
      "outputs": [],
      "source": [
        "print(converted_df.info())"
      ]
    },
    {
      "cell_type": "markdown",
      "metadata": {
        "id": "obcsAjPg0BA7"
      },
      "source": [
        "### One Hot Encoding"
      ]
    },
    {
      "cell_type": "code",
      "execution_count": null,
      "metadata": {
        "id": "ble73rCQ0Fpb"
      },
      "outputs": [],
      "source": [
        "one_hot_df = pd.get_dummies(converted_df)"
      ]
    },
    {
      "cell_type": "code",
      "execution_count": null,
      "metadata": {
        "id": "8BCrfVI61f8i"
      },
      "outputs": [],
      "source": [
        "print(one_hot_df.head())"
      ]
    },
    {
      "cell_type": "markdown",
      "metadata": {
        "id": "LwM0Br3y56X1"
      },
      "source": [
        "### Fit PCA"
      ]
    },
    {
      "cell_type": "code",
      "execution_count": null,
      "metadata": {
        "id": "6Ac8qGbH-Rpt"
      },
      "outputs": [],
      "source": [
        "def perform_pca(one_hot_df) :\n",
        "    pca = PCA()\n",
        "    principal_components = pca.fit_transform(one_hot_df)\n",
        "    pca_df = pd.DataFrame(principal_components)\n",
        "    significance_ratios = pca.explained_variance_ratio_ * 100\n",
        "    return pca, pca_df, significance_ratios"
      ]
    },
    {
      "cell_type": "code",
      "execution_count": null,
      "metadata": {
        "id": "tM_dOUGH1273"
      },
      "outputs": [],
      "source": [
        "pca, pca_df, significance_ratios = perform_pca(one_hot_df)"
      ]
    },
    {
      "cell_type": "code",
      "execution_count": null,
      "metadata": {
        "id": "FB9oNJCi4E1n"
      },
      "outputs": [],
      "source": [
        "print(pca_df)"
      ]
    },
    {
      "cell_type": "markdown",
      "metadata": {
        "id": "bvSkUVO359s3"
      },
      "source": [
        "### Analyze Cumulative Variance vs Number of Components"
      ]
    },
    {
      "cell_type": "code",
      "execution_count": null,
      "metadata": {
        "id": "vNazB3PB4K7W"
      },
      "outputs": [],
      "source": [
        "def plot_pca(ratios, suffix = ''):\n",
        "    plt.bar(range(len(ratios)), ratios)\n",
        "    plt.xlabel('PCA features')\n",
        "    plt.ylabel('Variance Percentage')\n",
        "    plt.xticks(rotation = 90)\n",
        "    plt.title(\"PCA features vs Variance%\")\n",
        "    plt.savefig(folder_location + suffix + '/Plots/' + 'PCA features vs Variance Percentage.jpeg') "
      ]
    },
    {
      "cell_type": "code",
      "execution_count": null,
      "metadata": {
        "id": "FD9Fs7hR5TLw"
      },
      "outputs": [],
      "source": [
        "plot_pca(significance_ratios)"
      ]
    },
    {
      "cell_type": "markdown",
      "metadata": {
        "id": "sS0AELwL6hxY"
      },
      "source": [
        "### Filtering based on pca results"
      ]
    },
    {
      "cell_type": "code",
      "execution_count": null,
      "metadata": {
        "id": "aFHYGNqW6CbX"
      },
      "outputs": [],
      "source": [
        "final_df = pca_df.iloc[:,:3]"
      ]
    },
    {
      "cell_type": "code",
      "execution_count": null,
      "metadata": {
        "id": "aYSA3nvR65Er"
      },
      "outputs": [],
      "source": [
        "print(final_df.head())"
      ]
    },
    {
      "cell_type": "markdown",
      "metadata": {
        "id": "HnXqLUGk7SCe"
      },
      "source": [
        "## K Median Clustering in range [10, 24]"
      ]
    },
    {
      "cell_type": "code",
      "execution_count": null,
      "metadata": {
        "id": "MwnK0J-K86Cw"
      },
      "outputs": [],
      "source": [
        "def calculate_euclidean_distance(p1, p2) :\n",
        "    squareSum = 0\n",
        "    n = len(p1)\n",
        "    assert(n == len(p2))\n",
        "    euclidean_distance = sum([ (p1[i] - p2[i]) ** 2 for i in range(n) ]) ** 0.5\n",
        "    return euclidean_distance"
      ]
    },
    {
      "cell_type": "code",
      "execution_count": null,
      "metadata": {
        "id": "1KmmihSm71ml"
      },
      "outputs": [],
      "source": [
        "def calculate_inertia(clusters, medians, df):\n",
        "    n = len(clusters)\n",
        "    inertia = 0\n",
        "    for i in range(n) :\n",
        "        for cc in clusters[i] :\n",
        "            inertia += calculate_euclidean_distance(df.iloc[cc,:], medians[i])\n",
        "    return inertia"
      ]
    },
    {
      "cell_type": "code",
      "execution_count": null,
      "metadata": {
        "id": "7C5QyB-Q7mee"
      },
      "outputs": [],
      "source": [
        "def perform_k_median(k_ranges, df) :\n",
        "    inertias = []\n",
        "    for k in k_ranges:\n",
        "        initial_medians = [np.random.random(df.shape[1]) for _ in range(k)]\n",
        "        kmedians_instance = kmedians(df, initial_medians)\n",
        "        kmedians_instance.process()\n",
        "        clusters = kmedians_instance.get_clusters()\n",
        "        medians = kmedians_instance.get_medians()\n",
        "        inertia = calculate_inertia(clusters, medians, df)\n",
        "        inertias.append(inertia)\n",
        "    return inertias"
      ]
    },
    {
      "cell_type": "code",
      "execution_count": null,
      "metadata": {
        "id": "ASWXxij27K8R"
      },
      "outputs": [],
      "source": [
        "k_ranges = range(10, 24 + 1)\n",
        "inertias = perform_k_median(k_ranges, final_df)"
      ]
    },
    {
      "cell_type": "code",
      "execution_count": null,
      "metadata": {
        "id": "GY62pGbZDs2N"
      },
      "outputs": [],
      "source": [
        "# to save some time later\n",
        "# inertias = [117830.61599847802, 99246.66016625229, 103096.05769717509, 101678.41175872329, 91394.05125657705, 91184.7933737051, 79660.64976055258, 87949.72452012134, 87106.01304486161, 71011.72840426826, 69168.96455782162, 73800.78983210154, 77320.13244083677, 73072.83249477061, 67930.15988328044]"
      ]
    },
    {
      "cell_type": "code",
      "execution_count": null,
      "metadata": {
        "id": "aB5SRyrA9mIM"
      },
      "outputs": [],
      "source": [
        "print(inertias)"
      ]
    },
    {
      "cell_type": "markdown",
      "metadata": {
        "id": "IZxOJjCJC6C5"
      },
      "source": [
        "### Plotting Interia plot to look for elbow"
      ]
    },
    {
      "cell_type": "code",
      "execution_count": null,
      "metadata": {
        "id": "f4kt0gFr9wfn"
      },
      "outputs": [],
      "source": [
        "def plot_inertias(k_ranges, inertias, suffix = '') :\n",
        "    plt.plot(k_ranges, inertias, '-o')\n",
        "    plt.xlabel('Number of clusters (k)')\n",
        "    plt.ylabel('Inertia')\n",
        "    plt.title(\"K vs Inertia\")\n",
        "    plt.xticks(k_ranges)\n",
        "    plt.savefig(folder_location + suffix + '/Plots/' + 'K vs Inertia.jpeg')"
      ]
    },
    {
      "cell_type": "code",
      "execution_count": null,
      "metadata": {
        "id": "xgNjyw5P-gNi"
      },
      "outputs": [],
      "source": [
        "plot_inertias(k_ranges, inertias)"
      ]
    },
    {
      "cell_type": "markdown",
      "metadata": {
        "id": "Xr1QZhxzDHJe"
      },
      "source": [
        "### K-median clustering on choosen k"
      ]
    },
    {
      "cell_type": "code",
      "execution_count": null,
      "metadata": {
        "id": "aQ-RbHN9_QVb"
      },
      "outputs": [],
      "source": [
        "# Credits: https://pyclustering.github.io/docs/0.9.0/html/df/d68/classpyclustering_1_1cluster_1_1kmedians_1_1kmedians.html#:~:text=%23%20Visualize%20clustering%20results.\n",
        "def perform_clustering(k, df):\n",
        "    initial_medians = [np.random.random(df.shape[1]) for _ in range(k)]\n",
        "    sample = df.values.tolist()\n",
        "    kmedians_instance = kmedians(sample, initial_medians)\n",
        "    kmedians_instance.process()\n",
        "    clusters = kmedians_instance.get_clusters()\n",
        "    medians = kmedians_instance.get_medians()\n",
        "    visualizer = cluster_visualizer_multidim()\n",
        "    visualizer.append_clusters(clusters, list(sample))\n",
        "    visualizer.append_cluster(medians, marker = '^', markersize = 10)\n",
        "    visualizer.show()\n",
        "    return clusters"
      ]
    },
    {
      "cell_type": "code",
      "execution_count": null,
      "metadata": {
        "id": "Sdw4SrlmAP2O"
      },
      "outputs": [],
      "source": [
        "k_median_clusters = perform_clustering(20, final_df.iloc[:1000,:])"
      ]
    },
    {
      "cell_type": "markdown",
      "metadata": {
        "id": "bW7K6O9bCmXF"
      },
      "source": [
        "# Performing above operations on above 50K Popoulation"
      ]
    },
    {
      "cell_type": "code",
      "execution_count": null,
      "metadata": {
        "id": "zuIbxW7uCl9o"
      },
      "outputs": [],
      "source": [
        "above_50k_location = '/Above 50k Population'"
      ]
    },
    {
      "cell_type": "code",
      "execution_count": null,
      "metadata": {
        "id": "2344opcmCyMy"
      },
      "outputs": [],
      "source": [
        "df_50k = pd.read_csv(folder_location +'/Datasets/' + 'more_than_50k.csv')"
      ]
    },
    {
      "cell_type": "code",
      "execution_count": null,
      "metadata": {
        "id": "oQfVFu9OHuK7"
      },
      "outputs": [],
      "source": [
        "print(df_50k.head())\n",
        "print(df_50k.info())\n",
        "with pd.option_context('display.max_rows', None, 'display.max_columns', None):\n",
        "    print(df_50k.describe())"
      ]
    },
    {
      "cell_type": "code",
      "execution_count": null,
      "metadata": {
        "id": "kdjafRViH2LD"
      },
      "outputs": [],
      "source": [
        "df_50k.replace(to_replace = ' ?', value = np.nan, inplace = True)"
      ]
    },
    {
      "cell_type": "code",
      "execution_count": null,
      "metadata": {
        "id": "EygUPouHH9g8"
      },
      "outputs": [],
      "source": [
        "print(df_50k[df_50k == '?'].sum())"
      ]
    },
    {
      "cell_type": "code",
      "execution_count": null,
      "metadata": {
        "id": "Ue7cxL41IBnq"
      },
      "outputs": [],
      "source": [
        "null_counts_50k = df_50k.isna().sum() / df_50k.shape[0] * 100"
      ]
    },
    {
      "cell_type": "code",
      "execution_count": null,
      "metadata": {
        "id": "kQzMydYkIEPj"
      },
      "outputs": [],
      "source": [
        "null_counts_50k.plot(kind = 'barh', xlabel = 'Columns', ylabel = 'Percentage of null values', title = 'Perctange of Null values in columns', figsize = (12, 12), fontsize = 8)\n",
        "plt.savefig(folder_location + above_50k_location + '/Plots/' + 'Percentage_Nulls.jpeg') "
      ]
    },
    {
      "cell_type": "code",
      "execution_count": null,
      "metadata": {
        "id": "X6picbYuIWkk"
      },
      "outputs": [],
      "source": [
        "null_columns_50k = list(null_counts_50k[lambda n : n >= 40].index)\n",
        "preprocessed_df_50k = df_50k.drop(columns = null_columns_50k)"
      ]
    },
    {
      "cell_type": "code",
      "execution_count": null,
      "metadata": {
        "id": "b2h68NbVIX4r"
      },
      "outputs": [],
      "source": [
        "print(preprocessed_df_50k.info())"
      ]
    },
    {
      "cell_type": "code",
      "execution_count": null,
      "metadata": {
        "id": "ob1FCa05I4OM"
      },
      "outputs": [],
      "source": [
        "numerical_columns_50k = [c for c in given_numerical_columns if c in preprocessed_df_50k.columns]\n",
        "categorical_columns_50k = [c for c in preprocessed_df_50k.columns if c not in numerical_columns_50k]"
      ]
    },
    {
      "cell_type": "code",
      "execution_count": null,
      "metadata": {
        "id": "GOReRaA9JQn0"
      },
      "outputs": [],
      "source": [
        "print(\"Numerical Columns:\", numerical_columns_50k)\n",
        "print(\"Categorical Columns:\", categorical_columns_50k)"
      ]
    },
    {
      "cell_type": "code",
      "execution_count": null,
      "metadata": {
        "id": "bCswlo_4JU_L"
      },
      "outputs": [],
      "source": [
        "preprocessed_df_50k[categorical_columns_50k] = preprocessed_df[categorical_columns_50k].astype('object')\n",
        "numerical_df_50k = preprocessed_df_50k[numerical_columns_50k]\n",
        "categorical_df_50k = preprocessed_df_50k[categorical_columns_50k]"
      ]
    },
    {
      "cell_type": "code",
      "execution_count": null,
      "metadata": {
        "id": "abjbJStmJj08"
      },
      "outputs": [],
      "source": [
        "print(numerical_df_50k.info())\n",
        "print(categorical_df_50k.info())"
      ]
    },
    {
      "cell_type": "code",
      "execution_count": null,
      "metadata": {
        "id": "pTOiHjq9Jqt_"
      },
      "outputs": [],
      "source": [
        "plot_columns_values(numerical_df_50k, 'Numerical Data', above_50k_location)\n",
        "plot_columns_values(categorical_df_50k, 'Categorical Data', above_50k_location)"
      ]
    },
    {
      "cell_type": "code",
      "execution_count": null,
      "metadata": {
        "id": "iKWVCaVhNBSL"
      },
      "outputs": [],
      "source": [
        "unbalanced_columns_50k = get_unbalanced_columns(preprocessed_df_50k)\n",
        "filtered_df_50k = preprocessed_df_50k.drop(columns = unbalanced_columns_50k)"
      ]
    },
    {
      "cell_type": "code",
      "execution_count": null,
      "metadata": {
        "id": "jkqQOIQjNPIw"
      },
      "outputs": [],
      "source": [
        "print(filtered_df_50k.info())"
      ]
    },
    {
      "cell_type": "code",
      "execution_count": null,
      "metadata": {
        "id": "Pgv6NC49NR89"
      },
      "outputs": [],
      "source": [
        "null_columns_50k = filtered_df_50k.columns[filtered_df_50k.isnull().any()]\n",
        "filtered_df_50k[null_columns_50k] = column_modes[null_columns_50k]"
      ]
    },
    {
      "cell_type": "code",
      "execution_count": null,
      "metadata": {
        "id": "n_7lUv-pNgaY"
      },
      "outputs": [],
      "source": [
        "print(filtered_df_50k.isnull().sum())"
      ]
    },
    {
      "cell_type": "code",
      "execution_count": null,
      "metadata": {
        "id": "zerDq9YcNlSM"
      },
      "outputs": [],
      "source": [
        "cur_numerical_columns_50k = [c for c in filtered_df_50k.columns if c in numerical_columns_50k]"
      ]
    },
    {
      "cell_type": "code",
      "execution_count": null,
      "metadata": {
        "id": "7J25rH2hNuax"
      },
      "outputs": [],
      "source": [
        "print(cur_numerical_columns_50k)"
      ]
    },
    {
      "cell_type": "code",
      "execution_count": null,
      "metadata": {
        "id": "_sICisAINxHB"
      },
      "outputs": [],
      "source": [
        "converted_df_50k = filtered_df_50k.copy()\n",
        "converted_df_50k['AAGE'] = pd.cut(filtered_df_50k['AAGE'], bins = [0, 12, 18, 60, 200], labels = ['Child', 'Teenager', 'Adult', 'Senior Adult'], include_lowest = True)"
      ]
    },
    {
      "cell_type": "code",
      "execution_count": null,
      "metadata": {
        "id": "4npiJeubN7kX"
      },
      "outputs": [],
      "source": [
        "print(converted_df_50k.info())"
      ]
    },
    {
      "cell_type": "code",
      "execution_count": null,
      "metadata": {
        "id": "0t0wk9pJN_0b"
      },
      "outputs": [],
      "source": [
        "one_hot_df_50k = pd.get_dummies(converted_df_50k)"
      ]
    },
    {
      "cell_type": "code",
      "execution_count": null,
      "metadata": {
        "id": "eoKFtzjvOGC7"
      },
      "outputs": [],
      "source": [
        "print(one_hot_df_50k.head())"
      ]
    },
    {
      "cell_type": "code",
      "execution_count": null,
      "metadata": {
        "id": "QOUqwLCEOKDv"
      },
      "outputs": [],
      "source": [
        "pca_50k, pca_df_50k, significance_ratios_50k = perform_pca(one_hot_df_50k)"
      ]
    },
    {
      "cell_type": "code",
      "execution_count": null,
      "metadata": {
        "id": "zNK8q8N7OM9M"
      },
      "outputs": [],
      "source": [
        "print(pca_df_50k)"
      ]
    },
    {
      "cell_type": "code",
      "execution_count": null,
      "metadata": {
        "id": "c5cfuUO2Ou8I"
      },
      "outputs": [],
      "source": [
        "plot_pca(significance_ratios_50k, above_50k_location)"
      ]
    },
    {
      "cell_type": "code",
      "execution_count": null,
      "metadata": {
        "id": "shdbNJ-5OyYV"
      },
      "outputs": [],
      "source": [
        "final_df_50k = pca_df_50k.iloc[:,:3]"
      ]
    },
    {
      "cell_type": "code",
      "execution_count": null,
      "metadata": {
        "id": "auF6yWPgO8Yq"
      },
      "outputs": [],
      "source": [
        "print(final_df_50k.head())"
      ]
    },
    {
      "cell_type": "code",
      "execution_count": null,
      "metadata": {
        "id": "Kw8JqN67PAi_"
      },
      "outputs": [],
      "source": [
        "inertias_50k = perform_k_median(k_ranges, final_df_50k)"
      ]
    },
    {
      "cell_type": "code",
      "execution_count": null,
      "metadata": {
        "id": "eq9E1Y7rPNZR"
      },
      "outputs": [],
      "source": [
        "# to save time later\n",
        "# inertias = [2232.2624452265068, 2036.7833628630062, 1713.434374458752, 1620.5378952143776, 1536.7771307837518, 1498.172682238264, 1671.9770938588897, 1648.6562163968747, 1310.3376223683824, 1545.56109540825, 1509.6517147092775, 1427.047253780836, 1407.7818914761235, 1068.8986607834693, 1236.8617624407639]"
      ]
    },
    {
      "cell_type": "code",
      "execution_count": null,
      "metadata": {
        "id": "Y5dVaGZzPGYA"
      },
      "outputs": [],
      "source": [
        "print(inertias_50k)"
      ]
    },
    {
      "cell_type": "code",
      "execution_count": null,
      "metadata": {
        "id": "j8YQw76IPRtl"
      },
      "outputs": [],
      "source": [
        "plot_inertias(k_ranges, inertias_50k, above_50k_location)"
      ]
    },
    {
      "cell_type": "code",
      "execution_count": null,
      "metadata": {
        "id": "iT7u3FI4Pdv4"
      },
      "outputs": [],
      "source": [
        "k_median_clusters_50k = perform_clustering(20, final_df_50k.iloc[:1000,:])"
      ]
    },
    {
      "cell_type": "markdown",
      "metadata": {
        "id": "9SCk5ta4TCXH"
      },
      "source": [
        "## 6.2, 3, 4"
      ]
    },
    {
      "cell_type": "code",
      "execution_count": null,
      "metadata": {
        "id": "2crG66U-TCAs"
      },
      "outputs": [],
      "source": [
        "pca_df_inverse = pca.inverse_transform(pca_df)\n",
        "print(pca_df_inverse)"
      ]
    },
    {
      "cell_type": "code",
      "execution_count": null,
      "metadata": {
        "id": "LodP8H1WTHy1"
      },
      "outputs": [],
      "source": [
        "pca_df_inverse_50k = pca_50k.inverse_transform(pca_df_50k)\n",
        "print(pca_df_inverse_50k)"
      ]
    }
  ],
  "metadata": {
    "colab": {
      "collapsed_sections": [],
      "name": "ML_A3.ipynb",
      "provenance": []
    },
    "kernelspec": {
      "display_name": "Python 3",
      "name": "python3"
    },
    "language_info": {
      "name": "python"
    }
  },
  "nbformat": 4,
  "nbformat_minor": 0
}
